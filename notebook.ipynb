{
 "cells": [
  {
   "cell_type": "markdown",
   "metadata": {},
   "source": [
    "# Notebook which explains how the algorithms works and how to interpret the results"
   ]
  },
  {
   "cell_type": "markdown",
   "metadata": {},
   "source": [
    "## Install all necessary libraries"
   ]
  },
  {
   "cell_type": "code",
   "execution_count": null,
   "metadata": {},
   "outputs": [],
   "source": [
    "%pip install dtw-python\n",
    "%pip install matplotlib\n",
    "%pip install datetime\n",
    "%pip install requests\n",
    "%pip install numpy"
   ]
  },
  {
   "cell_type": "markdown",
   "metadata": {},
   "source": [
    "## Import all the libraries"
   ]
  },
  {
   "cell_type": "code",
   "execution_count": null,
   "metadata": {},
   "outputs": [],
   "source": [
    "import numpy as np\n",
    "import statistics\n",
    "from typing import List\n",
    "import requests as req\n",
    "from pprint import pprint\n",
    "import statistics\n",
    "from dtw import *\n",
    "import itertools\n",
    "from datetime import datetime\n",
    "import matplotlib.pyplot as plt"
   ]
  },
  {
   "cell_type": "markdown",
   "metadata": {},
   "source": [
    "## Classe qui recupère les données du site Yahoo finance depuis son api ou si les données yahoo ne sont pas accessible, passe par l'api Mboum"
   ]
  },
  {
   "cell_type": "code",
   "execution_count": null,
   "metadata": {},
   "outputs": [],
   "source": [
    "\n",
    "class ChartAnalysis():\n",
    "    def __init__(self):\n",
    "        self.charts={}\n",
    "    \n",
    "    \n",
    "    def get_chart(self,symbol:str,timeframe:int=30)->list:\n",
    "        headers = {\n",
    "            'x-api-key': \"mTd2MNVwEe3WFgj5PQ66Tbpq0CyeP8Q7ESjpmYZ2\"\n",
    "        }\n",
    "        try:\n",
    "            url = f\"https://yfapi.net/v8/finance/chart/{symbol}?range=1mo&region=FR&interval=1d&lang=en\"\n",
    "            response = req.request(\"GET\", url, headers=headers)\n",
    "            \n",
    "            \n",
    "            \n",
    "            closes = response.json()[\"chart\"][\"result\"][0][\"indicators\"][\"quote\"][0]['close']\n",
    "            timesamps = response.json()[\"chart\"][\"result\"][0][\"timestamp\"]\n",
    "            \n",
    "\n",
    "            return [{\"date\":datetime.fromtimestamp(int(timestamp)), \"close\":close} for timestamp, close in zip(timesamps, closes)]\n",
    "        \n",
    "        except Exception as errorYahoo:\n",
    "            try:\n",
    "                headers = {\n",
    "                'X-Mboum-Secret': \"DPEbphxr0mBRzEp956ORDzCn1DFQMX6Xhhf1g5GVw6t6LtJlNmkwmYDGKVed\"\n",
    "                }\n",
    "                url = f\"https://mboum.com/api/v1/hi/history/?symbol={symbol}&interval=1d&diffandsplits=true\"\n",
    "                response = req.request(\"GET\", url, headers=headers).json()\n",
    "\n",
    "\n",
    "                result = [ {\"date\":datetime.fromtimestamp(int(value)),\"close\":response['data']['items'][value][\"close\"]} for value in response['data']['items']]\n",
    "\n",
    "                return result[-timeframe:]\n",
    "\n",
    "            except Exception as errorMboum:\n",
    "                raise Exception([errorMboum,errorYahoo])\n",
    "        \n",
    "    def loading(self,list_actifs:List[str]):\n",
    "        self.charts = {actif: self.get_chart(actif) for actif in list_actifs}\n",
    "        \n",
    "    def resultats_rapports(self,list_actifs:List[str]) -> dict:\n",
    "        results = {}\n",
    "        \n",
    "        \n",
    "        if self.charts == {}:\n",
    "            # On construit un dictionnaire avec tous les charts des actifs de la liste\n",
    "            self.charts = {actif: self.get_chart(actif) for actif in list_actifs}\n",
    "        \n",
    "        \n",
    "        \n",
    "        # Pour chaque actif \n",
    "        for actif_reference,actif_comparaison in itertools.combinations(self.charts, 2):\n",
    "       \n",
    "            chart_reference = [value['close'] for value in self.charts[actif_reference]]\n",
    "            chart_comparison = [value['close'] for value in self.charts[actif_comparaison]]\n",
    "\n",
    "\n",
    "            results[\n",
    "                f\"distance rapport moyenne {actif_reference} / \"\n",
    "                + actif_comparaison\n",
    "            ] = self.distance_point_par_point_rapport_moyenne(\n",
    "                chart_reference,chart_comparison,actif_reference,actif_comparaison\n",
    "            )\n",
    "            \n",
    "\n",
    "            results[\n",
    "                f\"dynamic time warping rapport moyenne {actif_reference} / \"\n",
    "                + actif_comparaison\n",
    "            ] = self.dynamic_time_warping_par_rapport_moyenne(\n",
    "                chart_reference,chart_comparison,actif_reference,actif_comparaison\n",
    "            )\n",
    "        \n",
    "        return results                \n",
    "\n",
    "\n",
    "\n",
    "    \n",
    "    def distance_point_par_point_rapport_moyenne(self,chart_reference,chart_comparison,actif_reference,actif_comparaison):          \n",
    "        newreference = []\n",
    "        newcomparison = []\n",
    "\n",
    "        for i in range(len(chart_reference)):\n",
    "            newreference.append(chart_reference[i] / statistics.mean(chart_reference))\n",
    "            newcomparison.append(chart_comparison[i] / statistics.mean(chart_comparison)) \n",
    "\n",
    "        distances = [\n",
    "            abs(newreference[i] - newcomparison[i])\n",
    "            for i in range(len(newreference))\n",
    "        ]\n",
    "        \n",
    "        \n",
    "        for i in range (0,len(newreference)):\n",
    "            x = [i,i]\n",
    "            y = [newreference[i],newcomparison[i]]\n",
    "            plt.plot(x, y,\"k--\")\n",
    "        x = np.linspace(0, len(newreference)-1, len(newcomparison))\n",
    "        \n",
    "        \n",
    "        plt.plot(x, newreference, \"r\", linewidth=4,label=actif_reference)\n",
    "        plt.plot(x, newcomparison,\"b\",linewidth=4,label=actif_comparaison)\n",
    "        plt.legend()\n",
    "        plt.ylabel(\"Rapport des prix par rapport à la moyenne sur la periode\")\n",
    "        plt.savefig(f\"charts/dist_point_par_point{actif_reference}_{actif_comparaison}.png\")\n",
    "        plt.show()\n",
    "        \n",
    "        \n",
    "        x = np.linspace(0, len(newreference)-1, len(newreference))\n",
    "        plt.plot(x,distances)\n",
    "        \n",
    "        plt.show()\n",
    "        \n",
    "        return {\"distance totale\":round(sum(distances),2)}\n",
    "        \n",
    "    \n",
    "\n",
    "    \n",
    "    def dynamic_time_warping_par_rapport_moyenne(self,chart_reference,chart_comparison,actif_reference,actif_comparaison):\n",
    "        rearange_reference = []\n",
    "        rearange_comparison = []\n",
    "\n",
    "        for value in chart_reference:\n",
    "            rearange_reference.append(value / statistics.mean(chart_reference))\n",
    "            \n",
    "        for value in chart_comparison:\n",
    "            rearange_comparison.append(value / statistics.mean(chart_comparison))\n",
    "\n",
    "        # OO method call chain\n",
    "        warping = dtw(rearange_comparison, rearange_reference, keep_internals=True, step_pattern=rabinerJuangStepPattern(6, \"c\"))\n",
    "\n",
    "        plot = warping.plot(type=\"twoway\")\n",
    "        # Editing the plot and saving to file\n",
    "        plot.set_xlabel(f\"Dynamic Time Warping between {actif_reference} and {actif_comparaison}\")\n",
    "        plot.figure.savefig(f\"charts/dtw{actif_reference}_{actif_comparaison}.png\")\n",
    "\n",
    "        return {\"distance totale\":round(warping.distance,2)}\n",
    "    \n",
    "    \n"
   ]
  },
  {
   "cell_type": "markdown",
   "metadata": {},
   "source": [
    "## Initializing the class to save the charts (reduce api calls when testing)"
   ]
  },
  {
   "cell_type": "code",
   "execution_count": null,
   "metadata": {},
   "outputs": [],
   "source": [
    "chartAnalysis = ChartAnalysis()\n",
    "assets = ['AAPL','AMZN','TSLA','MSFT','TTE','OXY','BTC-USD','BZ=F']\n",
    "chartAnalysis.loading(assets)\n"
   ]
  },
  {
   "cell_type": "markdown",
   "metadata": {},
   "source": [
    "## Doing the analysis for a set of assets"
   ]
  },
  {
   "cell_type": "code",
   "execution_count": null,
   "metadata": {},
   "outputs": [],
   "source": [
    "pprint(chartAnalysis.resultats_rapports(assets))"
   ]
  },
  {
   "cell_type": "markdown",
   "metadata": {},
   "source": [
    "> On remarque que la distance recuperée avec le dynamic time warping est inférieure à celle de la distance point par point ce qui est logique puisque l'alignement est adaptée."
   ]
  }
 ],
 "metadata": {
  "interpreter": {
   "hash": "4a0404adf4672f1692f49e2c17bd0865d2838322b9d4f008ad87b2776af754c1"
  },
  "kernelspec": {
   "display_name": "Python 3.10.3 64-bit ('3.10.3')",
   "language": "python",
   "name": "python3"
  },
  "language_info": {
   "codemirror_mode": {
    "name": "ipython",
    "version": 3
   },
   "file_extension": ".py",
   "mimetype": "text/x-python",
   "name": "python",
   "nbconvert_exporter": "python",
   "pygments_lexer": "ipython3",
   "version": "3.10.3"
  },
  "orig_nbformat": 4
 },
 "nbformat": 4,
 "nbformat_minor": 2
}
